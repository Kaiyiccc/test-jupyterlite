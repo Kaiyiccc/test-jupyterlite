{
 "cells": [
  {
   "cell_type": "code",
   "execution_count": 1,
   "id": "ad1ee6ed-b41b-4ceb-ba7f-f9fe754b64ea",
   "metadata": {},
   "outputs": [],
   "source": [
    "from signing import verify_bundle, sign_file, Authenticate"
   ]
  },
  {
   "cell_type": "markdown",
   "id": "72323bb8-1d54-4c29-99c7-698f2819a1cb",
   "metadata": {
    "tags": []
   },
   "source": [
    "## Check a file"
   ]
  },
  {
   "cell_type": "markdown",
   "id": "f4a87d6e-1b08-41b3-be0e-1cdf2e202e7f",
   "metadata": {},
   "source": [
    "### Check the math of the signature\n",
    "Does the signature, file content and signer's public key checkout against each other?"
   ]
  },
  {
   "cell_type": "code",
   "execution_count": 2,
   "id": "33a5c559-c1f0-4e81-80a4-3f30de6d0f8b",
   "metadata": {},
   "outputs": [
    {
     "name": "stdout",
     "output_type": "stream",
     "text": [
      "The signature and message verify for the bundle:\n",
      "/Users/k/Desktop/mainsail/gennaker_repo/build_data/files/User Guide/welcome.txt.edbnl\n",
      "\n"
     ]
    }
   ],
   "source": [
    "check1 = verify_bundle(\"welcome.txt.edbnl\")"
   ]
  },
  {
   "cell_type": "code",
   "execution_count": 3,
   "id": "33b00d4d-8429-49fd-b559-6e631af46c47",
   "metadata": {},
   "outputs": [
    {
     "data": {
      "application/vnd.jupyter.widget-view+json": {
       "model_id": "607f6e759be340bcb8a7bf5cff6a0c21",
       "version_major": 2,
       "version_minor": 0
      },
      "text/plain": [
       "AppLayout(children=(HTML(value='<h1 style=\"text-align: center\">Authenticate Senders</h1>', layout=Layout(grid_…"
      ]
     },
     "metadata": {},
     "output_type": "display_data"
    },
    {
     "data": {
      "application/vnd.jupyter.widget-view+json": {
       "model_id": "4eede086f8b94e5e9b55b15bfb87c082",
       "version_major": 2,
       "version_minor": 0
      },
      "text/plain": [
       "HBox(children=(Button(button_style='info', description='Click to confirm all choices', icon='check', layout=La…"
      ]
     },
     "metadata": {},
     "output_type": "display_data"
    }
   ],
   "source": [
    "check2 = Authenticate(\"./\")"
   ]
  },
  {
   "cell_type": "markdown",
   "id": "a20867c0-ce0a-4b01-b869-94c9185c37c9",
   "metadata": {},
   "source": [
    "## Sign a file"
   ]
  },
  {
   "cell_type": "code",
   "execution_count": 4,
   "id": "3660ac37-6c93-4cfb-bdf4-9cd0cbc3b34d",
   "metadata": {},
   "outputs": [],
   "source": [
    "sign_file(\"\")"
   ]
  },
  {
   "cell_type": "code",
   "execution_count": null,
   "id": "f6c0deb9-76ce-4990-8fba-7763008cced7",
   "metadata": {},
   "outputs": [],
   "source": []
  }
 ],
 "metadata": {
  "kernelspec": {
   "display_name": "Python 3 (ipykernel)",
   "language": "python",
   "name": "python3"
  },
  "language_info": {
   "codemirror_mode": {
    "name": "ipython",
    "version": 3
   },
   "file_extension": ".py",
   "mimetype": "text/x-python",
   "name": "python",
   "nbconvert_exporter": "python",
   "pygments_lexer": "ipython3",
   "version": "3.10.4"
  }
 },
 "nbformat": 4,
 "nbformat_minor": 5
}
