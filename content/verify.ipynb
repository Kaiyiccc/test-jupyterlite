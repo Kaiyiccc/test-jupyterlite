{
 "cells": [
  {
   "cell_type": "code",
   "execution_count": null,
   "metadata": {},
   "outputs": [],
   "source": [
    "import piplite\n",
    "await piplite.install(\"cryptography\")\n",
    "await piplite.install(\"tomli\")\n",
    "# Above, the install command actually loads cryptography as an existing package in pyodide,\n",
    "# rather than fetching it from pypi\n",
    "# See documentation: https://pyodide.org/en/stable/usage/packages-in-pyodide.html#packages-in-pyodide\n",
    "\n",
    "await piplite.install(\"requests\")\n",
    "await piplite.install('ipywidgets')\n",
    "\n",
    "from src_verify import verify_bundle, Authenticate"
   ]
  },
  {
   "cell_type": "code",
   "execution_count": null,
   "metadata": {},
   "outputs": [],
   "source": [
    "verify_bundle(\"welcome.txt.edbnl\")"
   ]
  },
  {
   "cell_type": "code",
   "execution_count": null,
   "metadata": {},
   "outputs": [],
   "source": [
    "Authenticate(\"./\")\n",
    "# requests does not seem to work from here? Need to investigate"
   ]
  },
  {
   "cell_type": "code",
   "execution_count": null,
   "metadata": {},
   "outputs": [],
   "source": []
  }
 ],
 "metadata": {
  "kernelspec": {
   "display_name": "Python 3.10.4 64-bit",
   "language": "python",
   "name": "python3"
  },
  "language_info": {
   "codemirror_mode": {
    "name": "ipython",
    "version": 3
   },
   "file_extension": ".py",
   "mimetype": "text/x-python",
   "name": "python",
   "nbconvert_exporter": "python",
   "pygments_lexer": "ipython3",
   "version": "3.10.4"
  },
  "orig_nbformat": 4,
  "vscode": {
   "interpreter": {
    "hash": "aee8b7b246df8f9039afb4144a1f6fd8d2ca17a180786b69acc140d282b71a49"
   }
  }
 },
 "nbformat": 4,
 "nbformat_minor": 2
}
