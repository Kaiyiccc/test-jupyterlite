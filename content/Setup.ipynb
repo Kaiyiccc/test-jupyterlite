{
 "cells": [
  {
   "cell_type": "markdown",
   "id": "77c67c98-bee4-4106-a372-67f386a4e859",
   "metadata": {},
   "source": [
    "# Gennaker Setup"
   ]
  },
  {
   "cell_type": "code",
   "execution_count": 2,
   "id": "49ef3fcc-edb8-4a2e-a4f3-3f3e72f3e7a2",
   "metadata": {},
   "outputs": [],
   "source": [
    "from signing import Config, generate_and_save_key"
   ]
  },
  {
   "cell_type": "markdown",
   "id": "7b1ccf55-0ae2-4ade-b1c9-a06cf15838c2",
   "metadata": {},
   "source": [
    "## Set config, create folders for auto- sign and verify at default location"
   ]
  },
  {
   "cell_type": "code",
   "execution_count": 3,
   "id": "74f8d177-943c-4c90-9b67-5e4f1da9a656",
   "metadata": {},
   "outputs": [],
   "source": [
    "Config();"
   ]
  },
  {
   "cell_type": "markdown",
   "id": "5c9a27cf-0133-4385-9a97-706b77d24b2a",
   "metadata": {},
   "source": [
    "## Generate and save a secret key"
   ]
  },
  {
   "cell_type": "code",
   "execution_count": 4,
   "id": "22872653-f446-49be-b2b5-26a3ea94e2ea",
   "metadata": {},
   "outputs": [
    {
     "name": "stdout",
     "output_type": "stream",
     "text": [
      "\n",
      "        You already have a secret Mainsail signing key in the location \n",
      "        specified in your current configuration: login keychain. \n",
      "\n",
      "        To prevent the inadvertent loss of an existing key, no new key will be \n",
      "        created. The existing key is still there. \n",
      "        \n",
      "\n",
      "        If you want to stop using an existing key and generate and save \n",
      "        a new one: \n",
      "\n",
      "            i) Consider carefully whether you should rename the existing key\n",
      "            or save a backup copy in a different location.\n",
      "\n",
      "            ii) Remove or rename any key that includes the phrase \n",
      "            'mainsail_signing' in the location specified in your current \n",
      "            configuration.\n",
      "            \n",
      "            iii) Re-run the command that will generate and save a new key in \n",
      "            the location specified in your current configuration.\n",
      "            \n",
      "        For more information about your configuration and how to change \n",
      "        it, open the 'User Guide' project and look for the notebook on \n",
      "        configuration.\n",
      "\n",
      "\n",
      "        To remove an existing Mainsail signing key from its\n",
      "        current location: login keychain\n",
      "        \n",
      "        If the current location is a directory, go to it and \n",
      "        rename or delete the file named 'mainsail_signing_key'.\n",
      "        \n",
      "        Otherwise, your key is stored in a location managed by \n",
      "        your operating system:\n",
      "            \n",
      "            i) Open the Keychain Access program. You can find it \n",
      "            in /Applications/Keychain Access.\n",
      "\n",
      "            ii) Search for the phrase 'mainsail_signing'. \n",
      "\n",
      "            iii) Delete or rename any keys located by this\n",
      "            search request. \n",
      "\n",
      "        \n"
     ]
    }
   ],
   "source": [
    "generate_and_save_key()"
   ]
  },
  {
   "cell_type": "code",
   "execution_count": null,
   "id": "dfe359fa-892f-464c-8223-83d9d48bbac5",
   "metadata": {},
   "outputs": [],
   "source": []
  }
 ],
 "metadata": {
  "kernelspec": {
   "display_name": "Python 3 (ipykernel)",
   "language": "python",
   "name": "python3"
  },
  "language_info": {
   "codemirror_mode": {
    "name": "ipython",
    "version": 3
   },
   "file_extension": ".py",
   "mimetype": "text/x-python",
   "name": "python",
   "nbconvert_exporter": "python",
   "pygments_lexer": "ipython3",
   "version": "3.10.4"
  }
 },
 "nbformat": 4,
 "nbformat_minor": 5
}
